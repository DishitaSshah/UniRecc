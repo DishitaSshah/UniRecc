{
 "cells": [
  {
   "cell_type": "code",
   "execution_count": 1,
   "id": "e75099b5-2f67-47b1-85ec-f34652f3b01d",
   "metadata": {},
   "outputs": [
    {
     "name": "stdout",
     "output_type": "stream",
     "text": [
      "Requirement already satisfied: faker in c:\\users\\dishita shah\\anaconda3\\lib\\site-packages (37.1.0)\n",
      "Requirement already satisfied: tzdata in c:\\users\\dishita shah\\anaconda3\\lib\\site-packages (from faker) (2023.3)\n",
      "Note: you may need to restart the kernel to use updated packages.\n"
     ]
    }
   ],
   "source": [
    "pip install faker"
   ]
  },
  {
   "cell_type": "code",
   "execution_count": 2,
   "id": "e0a1e55c-3919-4ade-811e-0f93da735120",
   "metadata": {},
   "outputs": [
    {
     "name": "stdout",
     "output_type": "stream",
     "text": [
      "Dataset generated and saved as 'university (1).csv'.\n"
     ]
    }
   ],
   "source": [
    "import random\n",
    "import pandas as pd\n",
    "from faker import Faker\n",
    "\n",
    "# Initialize Faker\n",
    "fake = Faker()\n",
    "\n",
    "# Define lists for dataset\n",
    "countries = ['USA', 'UK', 'Canada', 'Germany', 'Australia']\n",
    "\n",
    "# Specific courses under various categories\n",
    "courses = [\n",
    "    # Technical & STEM\n",
    "    \"Artificial Intelligence\", \"Machine Learning\", \"Data Science\", \"Cybersecurity\", \"Software Engineering\",\n",
    "    # Business & Management\n",
    "    \"Business Administration\", \"Finance\", \"Marketing\", \"Entrepreneurship\",\n",
    "    # Arts & Design\n",
    "    \"Fine Arts\", \"Literature\", \"Fashion Designing\", \"Graphic Design\", \"Performing Arts\",\n",
    "    # Science & Health\n",
    "    \"Biotechnology\", \"Psychology\", \"Biomedical Engineering\"\n",
    "]\n",
    "\n",
    "# Real and existing universities (example list)\n",
    "universities = [\n",
    "    'MIT', 'Stanford University', 'Harvard University', 'University of Oxford',\n",
    "    'University of Cambridge', 'University of Toronto', 'University of British Columbia',\n",
    "    'Technical University of Munich', 'LMU Munich', 'Australian National University',\n",
    "    'University of Melbourne', 'Carnegie Mellon University', 'Columbia University',\n",
    "    'ETH Zurich', 'University of Waterloo', 'Imperial College London',\n",
    "    'University of Sydney', 'Monash University', 'McGill University', 'University of Alberta'\n",
    "]\n",
    "\n",
    "# Function to simulate Chance of Admission based on simple rules:\n",
    "# - High: GPA >= 8.5, IELTS_GRE_Score >= 320, Budget >= 40000\n",
    "# - Medium: GPA >= 7 and IELTS_GRE_Score >= 290 and Budget >= 25000\n",
    "# - Low: Otherwise\n",
    "def simulate_admission(gpa, score, budget):\n",
    "    if gpa >= 8.5 and score >= 320 and budget >= 40000:\n",
    "        return 'High'\n",
    "    elif gpa >= 7 and score >= 290 and budget >= 25000:\n",
    "        return 'Medium'\n",
    "    else:\n",
    "        return 'Low'\n",
    "\n",
    "# Generate dataset with 1200 rows\n",
    "data = []\n",
    "for i in range(1200):\n",
    "    # Using Faker to create a fake name (if needed) or any other property\n",
    "    # Here we just use a sequential Student_ID and generate random academic info.\n",
    "    student_id = i + 1\n",
    "    gpa = round(random.uniform(6.0, 10.0), 2)\n",
    "    country = random.choice(countries)\n",
    "    course = random.choice(courses)\n",
    "    budget = random.randint(15000, 60000)  # Assuming budget is in some currency unit (e.g., INR)\n",
    "    ielts_gre_score = random.randint(260, 340)  # Combined score simulation\n",
    "    # Randomly select a recommended university (you can add more logic if needed)\n",
    "    university = random.choice(universities)\n",
    "    chance_of_admission = simulate_admission(gpa, ielts_gre_score, budget)\n",
    "\n",
    "    # Append a row in the dataset\n",
    "    data.append([\n",
    "        student_id,\n",
    "        gpa,\n",
    "        country,\n",
    "        course,\n",
    "        budget,\n",
    "        ielts_gre_score,\n",
    "        university,\n",
    "        chance_of_admission\n",
    "    ])\n",
    "\n",
    "# Create DataFrame with appropriate column names\n",
    "df = pd.DataFrame(data, columns=[\n",
    "    'Student_ID',\n",
    "    'GPA',\n",
    "    'Preferred_Country',\n",
    "    'Course_Interest',\n",
    "    'Budget',\n",
    "    'IELTS_GRE_Score',\n",
    "    'Recommended_University',\n",
    "    'Chance_of_Admission'\n",
    "])\n",
    "\n",
    "# Save the dataset to a CSV file\n",
    "output_filename = \"university (1).csv\"\n",
    "df.to_csv(output_filename, index=False)\n",
    "\n",
    "print(f\"Dataset generated and saved as '{output_filename}'.\")\n"
   ]
  },
  {
   "cell_type": "code",
   "execution_count": null,
   "id": "b1057850-fdb0-430d-a201-a4d62327b354",
   "metadata": {},
   "outputs": [],
   "source": []
  }
 ],
 "metadata": {
  "kernelspec": {
   "display_name": "Python 3 (ipykernel)",
   "language": "python",
   "name": "python3"
  },
  "language_info": {
   "codemirror_mode": {
    "name": "ipython",
    "version": 3
   },
   "file_extension": ".py",
   "mimetype": "text/x-python",
   "name": "python",
   "nbconvert_exporter": "python",
   "pygments_lexer": "ipython3",
   "version": "3.11.7"
  }
 },
 "nbformat": 4,
 "nbformat_minor": 5
}
